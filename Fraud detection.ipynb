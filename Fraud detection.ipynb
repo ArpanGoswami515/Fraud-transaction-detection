{
 "cells": [
  {
   "cell_type": "code",
   "execution_count": 12,
   "metadata": {},
   "outputs": [],
   "source": [
    "import pandas as pd\n",
    "import numpy as np\n",
    "from sklearn.preprocessing import LabelEncoder\n",
    "import matplotlib.pyplot as plt\n",
    "import seaborn as sb"
   ]
  },
  {
   "cell_type": "markdown",
   "metadata": {},
   "source": [
    "Import the dataset"
   ]
  },
  {
   "cell_type": "code",
   "execution_count": 13,
   "metadata": {},
   "outputs": [],
   "source": [
    "df = pd.read_csv(\"Fraud.csv\")"
   ]
  },
  {
   "cell_type": "markdown",
   "metadata": {},
   "source": [
    "Apply Label encoding"
   ]
  },
  {
   "cell_type": "markdown",
   "metadata": {},
   "source": [
    "The features named \"nameOrig\", \"nameDest\", \"step\" needs to be dropped. The explanation is given below\n",
    "\n",
    "nameOrig = ID of the account from where the money is transferred. The variety of the accounts and the new accounts makes the feature useless.\n",
    "\n",
    "nameDest = Id of the account where money is transferred. Same reason to drop as nameOrig.\n",
    "\n",
    "step = Maps the time in hours for a transaction. Not a informative feature due to no relation between hourly timestamp and the fake transaction."
   ]
  },
  {
   "cell_type": "code",
   "execution_count": 14,
   "metadata": {},
   "outputs": [],
   "source": [
    "#The nameOrig and nameDest features are needed to be dropped because they are not fixed and will change if some new entry is evaluated\n",
    "df = df.drop(['nameOrig', 'nameDest', 'step'], axis=1)"
   ]
  },
  {
   "cell_type": "code",
   "execution_count": 15,
   "metadata": {},
   "outputs": [
    {
     "name": "stdout",
     "output_type": "stream",
     "text": [
      "['type']\n",
      "type  encoding\n",
      "0  -  PAYMENT\n",
      "1  -  TRANSFER\n",
      "2  -  CASH_OUT\n",
      "3  -  DEBIT\n",
      "4  -  CASH_IN\n"
     ]
    }
   ],
   "source": [
    "non_numeric_features = df.select_dtypes(exclude=\"number\").columns.tolist()\n",
    "print(non_numeric_features)\n",
    "le = LabelEncoder()\n",
    "\n",
    "for i in non_numeric_features:\n",
    "    encoded_data = le.fit_transform(df[i])\n",
    "    df[i] = encoded_data\n",
    "    print(i, \" encoding\")\n",
    "    temp = le.inverse_transform(df[i].unique())\n",
    "    for j in range(len(df[i].unique())):\n",
    "        print(j, \" - \", temp[j])"
   ]
  },
  {
   "cell_type": "markdown",
   "metadata": {},
   "source": [
    "Fix missing values"
   ]
  },
  {
   "cell_type": "code",
   "execution_count": 16,
   "metadata": {},
   "outputs": [
    {
     "data": {
      "text/html": [
       "<div>\n",
       "<style scoped>\n",
       "    .dataframe tbody tr th:only-of-type {\n",
       "        vertical-align: middle;\n",
       "    }\n",
       "\n",
       "    .dataframe tbody tr th {\n",
       "        vertical-align: top;\n",
       "    }\n",
       "\n",
       "    .dataframe thead th {\n",
       "        text-align: right;\n",
       "    }\n",
       "</style>\n",
       "<table border=\"1\" class=\"dataframe\">\n",
       "  <thead>\n",
       "    <tr style=\"text-align: right;\">\n",
       "      <th></th>\n",
       "      <th>type</th>\n",
       "      <th>amount</th>\n",
       "      <th>oldbalanceOrg</th>\n",
       "      <th>newbalanceOrig</th>\n",
       "      <th>oldbalanceDest</th>\n",
       "      <th>newbalanceDest</th>\n",
       "      <th>isFraud</th>\n",
       "      <th>isFlaggedFraud</th>\n",
       "    </tr>\n",
       "  </thead>\n",
       "  <tbody>\n",
       "    <tr>\n",
       "      <th>0</th>\n",
       "      <td>3</td>\n",
       "      <td>9839.64</td>\n",
       "      <td>170136.00</td>\n",
       "      <td>160296.36</td>\n",
       "      <td>0.00</td>\n",
       "      <td>0.00</td>\n",
       "      <td>0</td>\n",
       "      <td>0</td>\n",
       "    </tr>\n",
       "    <tr>\n",
       "      <th>1</th>\n",
       "      <td>3</td>\n",
       "      <td>1864.28</td>\n",
       "      <td>21249.00</td>\n",
       "      <td>19384.72</td>\n",
       "      <td>0.00</td>\n",
       "      <td>0.00</td>\n",
       "      <td>0</td>\n",
       "      <td>0</td>\n",
       "    </tr>\n",
       "    <tr>\n",
       "      <th>2</th>\n",
       "      <td>4</td>\n",
       "      <td>181.00</td>\n",
       "      <td>181.00</td>\n",
       "      <td>0.00</td>\n",
       "      <td>0.00</td>\n",
       "      <td>0.00</td>\n",
       "      <td>1</td>\n",
       "      <td>0</td>\n",
       "    </tr>\n",
       "    <tr>\n",
       "      <th>3</th>\n",
       "      <td>1</td>\n",
       "      <td>181.00</td>\n",
       "      <td>181.00</td>\n",
       "      <td>0.00</td>\n",
       "      <td>21182.00</td>\n",
       "      <td>0.00</td>\n",
       "      <td>1</td>\n",
       "      <td>0</td>\n",
       "    </tr>\n",
       "    <tr>\n",
       "      <th>4</th>\n",
       "      <td>3</td>\n",
       "      <td>11668.14</td>\n",
       "      <td>41554.00</td>\n",
       "      <td>29885.86</td>\n",
       "      <td>0.00</td>\n",
       "      <td>0.00</td>\n",
       "      <td>0</td>\n",
       "      <td>0</td>\n",
       "    </tr>\n",
       "    <tr>\n",
       "      <th>...</th>\n",
       "      <td>...</td>\n",
       "      <td>...</td>\n",
       "      <td>...</td>\n",
       "      <td>...</td>\n",
       "      <td>...</td>\n",
       "      <td>...</td>\n",
       "      <td>...</td>\n",
       "      <td>...</td>\n",
       "    </tr>\n",
       "    <tr>\n",
       "      <th>6362615</th>\n",
       "      <td>1</td>\n",
       "      <td>339682.13</td>\n",
       "      <td>339682.13</td>\n",
       "      <td>0.00</td>\n",
       "      <td>0.00</td>\n",
       "      <td>339682.13</td>\n",
       "      <td>1</td>\n",
       "      <td>0</td>\n",
       "    </tr>\n",
       "    <tr>\n",
       "      <th>6362616</th>\n",
       "      <td>4</td>\n",
       "      <td>6311409.28</td>\n",
       "      <td>6311409.28</td>\n",
       "      <td>0.00</td>\n",
       "      <td>0.00</td>\n",
       "      <td>0.00</td>\n",
       "      <td>1</td>\n",
       "      <td>0</td>\n",
       "    </tr>\n",
       "    <tr>\n",
       "      <th>6362617</th>\n",
       "      <td>1</td>\n",
       "      <td>6311409.28</td>\n",
       "      <td>6311409.28</td>\n",
       "      <td>0.00</td>\n",
       "      <td>68488.84</td>\n",
       "      <td>6379898.11</td>\n",
       "      <td>1</td>\n",
       "      <td>0</td>\n",
       "    </tr>\n",
       "    <tr>\n",
       "      <th>6362618</th>\n",
       "      <td>4</td>\n",
       "      <td>850002.52</td>\n",
       "      <td>850002.52</td>\n",
       "      <td>0.00</td>\n",
       "      <td>0.00</td>\n",
       "      <td>0.00</td>\n",
       "      <td>1</td>\n",
       "      <td>0</td>\n",
       "    </tr>\n",
       "    <tr>\n",
       "      <th>6362619</th>\n",
       "      <td>1</td>\n",
       "      <td>850002.52</td>\n",
       "      <td>850002.52</td>\n",
       "      <td>0.00</td>\n",
       "      <td>6510099.11</td>\n",
       "      <td>7360101.63</td>\n",
       "      <td>1</td>\n",
       "      <td>0</td>\n",
       "    </tr>\n",
       "  </tbody>\n",
       "</table>\n",
       "<p>6362620 rows × 8 columns</p>\n",
       "</div>"
      ],
      "text/plain": [
       "         type      amount  oldbalanceOrg  newbalanceOrig  oldbalanceDest  \\\n",
       "0           3     9839.64      170136.00       160296.36            0.00   \n",
       "1           3     1864.28       21249.00        19384.72            0.00   \n",
       "2           4      181.00         181.00            0.00            0.00   \n",
       "3           1      181.00         181.00            0.00        21182.00   \n",
       "4           3    11668.14       41554.00        29885.86            0.00   \n",
       "...       ...         ...            ...             ...             ...   \n",
       "6362615     1   339682.13      339682.13            0.00            0.00   \n",
       "6362616     4  6311409.28     6311409.28            0.00            0.00   \n",
       "6362617     1  6311409.28     6311409.28            0.00        68488.84   \n",
       "6362618     4   850002.52      850002.52            0.00            0.00   \n",
       "6362619     1   850002.52      850002.52            0.00      6510099.11   \n",
       "\n",
       "         newbalanceDest  isFraud  isFlaggedFraud  \n",
       "0                  0.00        0               0  \n",
       "1                  0.00        0               0  \n",
       "2                  0.00        1               0  \n",
       "3                  0.00        1               0  \n",
       "4                  0.00        0               0  \n",
       "...                 ...      ...             ...  \n",
       "6362615       339682.13        1               0  \n",
       "6362616            0.00        1               0  \n",
       "6362617      6379898.11        1               0  \n",
       "6362618            0.00        1               0  \n",
       "6362619      7360101.63        1               0  \n",
       "\n",
       "[6362620 rows x 8 columns]"
      ]
     },
     "execution_count": 16,
     "metadata": {},
     "output_type": "execute_result"
    }
   ],
   "source": [
    "df.replace([-np.inf, np.inf], np.nan, inplace=True)\n",
    "df.dropna()\n",
    "df"
   ]
  },
  {
   "cell_type": "markdown",
   "metadata": {},
   "source": [
    "Remove correlated features"
   ]
  },
  {
   "cell_type": "code",
   "execution_count": 6,
   "metadata": {},
   "outputs": [
    {
     "name": "stdout",
     "output_type": "stream",
     "text": [
      "         type      amount  newbalanceOrig  oldbalanceDest  isFraud  \\\n",
      "0           3     9839.64       160296.36            0.00        0   \n",
      "1           3     1864.28        19384.72            0.00        0   \n",
      "2           4      181.00            0.00            0.00        1   \n",
      "3           1      181.00            0.00        21182.00        1   \n",
      "4           3    11668.14        29885.86            0.00        0   \n",
      "...       ...         ...             ...             ...      ...   \n",
      "6362615     1   339682.13            0.00            0.00        1   \n",
      "6362616     4  6311409.28            0.00            0.00        1   \n",
      "6362617     1  6311409.28            0.00        68488.84        1   \n",
      "6362618     4   850002.52            0.00            0.00        1   \n",
      "6362619     1   850002.52            0.00      6510099.11        1   \n",
      "\n",
      "         isFlaggedFraud  \n",
      "0                     0  \n",
      "1                     0  \n",
      "2                     0  \n",
      "3                     0  \n",
      "4                     0  \n",
      "...                 ...  \n",
      "6362615               0  \n",
      "6362616               0  \n",
      "6362617               0  \n",
      "6362618               0  \n",
      "6362619               0  \n",
      "\n",
      "[6362620 rows x 6 columns]\n"
     ]
    },
    {
     "data": {
      "image/png": "[encoded data removed]",
      "text/plain": [
       "<Figure size 432x288 with 2 Axes>"
      ]
     },
     "metadata": {
      "needs_background": "light"
     },
     "output_type": "display_data"
    }
   ],
   "source": [
    "dataplot = sb.heatmap(df.corr(), cmap=\"YlGnBu\", annot=True)\n",
    "\n",
    "df_corr = df.corr()\n",
    "thresold = 0.8\n",
    "temp = len(df.columns)\n",
    "for i in range(temp):\n",
    "    for j in range(i+1, temp):\n",
    "        if df_corr.iloc[i, j] >= thresold:\n",
    "            df = df.drop(df.columns[i], axis=1)\n",
    "\n",
    "print(df)"
   ]
  },
  {
   "cell_type": "markdown",
   "metadata": {},
   "source": [
    "Remove outliers using mahalanobish distance formula"
   ]
  },
  {
   "cell_type": "code",
   "execution_count": 17,
   "metadata": {},
   "outputs": [
    {
     "name": "stdout",
     "output_type": "stream",
     "text": [
      "Outliers\n",
      "(array([      2,       3,      24, ..., 6362617, 6362618, 6362619],\n",
      "      dtype=int64),)\n"
     ]
    }
   ],
   "source": [
    "from scipy.stats import chi2\n",
    "\n",
    "df_np = df.to_numpy()\n",
    "covariance  = np.cov(df_np , rowvar=False)\n",
    "covariance_transpose = np.linalg.matrix_power(covariance, -1)\n",
    "centerpoint = np.mean(df_np , axis=0)\n",
    "\n",
    "distances = []\n",
    "for i, val in enumerate(df_np):\n",
    "      p1 = val\n",
    "      p2 = centerpoint\n",
    "      distance = (p1-p2).T.dot(covariance_transpose).dot(p1-p2)\n",
    "      distances.append(distance)\n",
    "\n",
    "distances = np.array(distances)\n",
    "cutoff = chi2.ppf(0.95, df_np.shape[1])\n",
    "outlierIndexes = np.where(distances > cutoff )\n",
    "\n",
    "print('Outliers')\n",
    "print(outlierIndexes)\n",
    "\n",
    "df = pd.DataFrame(df_np, columns=df.columns)"
   ]
  },
  {
   "cell_type": "markdown",
   "metadata": {},
   "source": [
    "Balance the dataset for each label"
   ]
  },
  {
   "cell_type": "code",
   "execution_count": 18,
   "metadata": {},
   "outputs": [],
   "source": [
    "x = df.drop('isFraud', axis=1)\n",
    "y = df['isFraud']"
   ]
  },
  {
   "cell_type": "code",
   "execution_count": 19,
   "metadata": {},
   "outputs": [
    {
     "name": "stdout",
     "output_type": "stream",
     "text": [
      "Counter({0.0: 6354407, 1.0: 8213})\n",
      "Counter({0.0: 3177203, 1.0: 3177203})\n",
      "Decision tree\n",
      "[[634575    469]\n",
      " [   278 635560]]\n",
      "0.9994122192304242\n",
      "Naive Bayes\n",
      "[[623937  11107]\n",
      " [419258 216580]]\n",
      "0.6613650991988241\n"
     ]
    }
   ],
   "source": [
    "#use SMOTE method for balancing dataset and see the result\n",
    "from collections import Counter\n",
    "from sklearn.datasets import make_classification\n",
    "from imblearn.over_sampling import SMOTE\n",
    "from imblearn.under_sampling import RandomUnderSampler\n",
    "from imblearn.pipeline import Pipeline\n",
    "\n",
    "# summarize class distribution\n",
    "counter = Counter(y)\n",
    "print(counter)\n",
    "\n",
    "# define pipeline\n",
    "over = SMOTE(sampling_strategy=0.5)\n",
    "under = RandomUnderSampler(sampling_strategy=1.0)\n",
    "steps = [('o', over), ('u', under)]\n",
    "pipeline = Pipeline(steps=steps)\n",
    "\n",
    "# transform the dataset\n",
    "X, Y = pipeline.fit_resample(x, y)\n",
    "\n",
    "# summarize the new class distribution\n",
    "counter = Counter(Y)\n",
    "print(counter)\n",
    "\n",
    "#create the train-test set\n",
    "from sklearn.model_selection import train_test_split\n",
    "xtrain, xtest, ytrain, ytest = train_test_split(X, Y, test_size = 0.2, random_state=42, shuffle=True)\n",
    "\n",
    "#Decision tree\n",
    "from sklearn.tree import DecisionTreeClassifier\n",
    "from sklearn.metrics import confusion_matrix\n",
    "dt = DecisionTreeClassifier()\n",
    "dt.fit(xtrain, ytrain)\n",
    "dt_predict = dt.predict(xtest)\n",
    "decision_tree_score = dt.score(xtest, ytest)\n",
    "\n",
    "print(\"Decision tree\")\n",
    "print(confusion_matrix(ytest, dt_predict))\n",
    "print(decision_tree_score)\n",
    "\n",
    "#Naive Bayes\n",
    "from sklearn.naive_bayes import GaussianNB\n",
    "nb = GaussianNB()\n",
    "nb.fit(xtrain, ytrain)\n",
    "nb_predict = nb.predict(xtest)\n",
    "naive_bayes_score = nb.score(xtest, ytest)\n",
    "\n",
    "print(\"Naive Bayes\")\n",
    "print(confusion_matrix(ytest, nb_predict))\n",
    "print(naive_bayes_score)\n"
   ]
  },
  {
   "cell_type": "code",
   "execution_count": 20,
   "metadata": {},
   "outputs": [
    {
     "name": "stdout",
     "output_type": "stream",
     "text": [
      "Original Class Distribution: Counter({0.0: 6354407, 1.0: 8213})\n",
      "Oversampled Class Distribution: Counter({1.0: 6356862, 0.0: 6354407})\n",
      "Decision tree\n",
      "[[1270369     179]\n",
      " [      0 1271706]]\n",
      "0.9999295900409636\n",
      "Naive Bayes\n",
      "[[1247321   23227]\n",
      " [ 877947  393759]]\n",
      "0.6455216512590796\n"
     ]
    }
   ],
   "source": [
    "#use replication strategy to get balanced dataset\n",
    "import pandas as pd\n",
    "from collections import Counter\n",
    "\n",
    "# Suppose you have a dataset with features in 'X' and labels in 'y'\n",
    "\n",
    "# Summarize class distribution\n",
    "counter = Counter(y)\n",
    "print(\"Original Class Distribution:\", counter)\n",
    "\n",
    "# Find the minority and majority class labels\n",
    "minority_class = min(counter, key=counter.get)\n",
    "majority_class = max(counter, key=counter.get)\n",
    "\n",
    "# Find the ratio of oversampling (e.g., if you want to make the minority class equal to the majority class)\n",
    "oversampling_ratio = counter[majority_class] // counter[minority_class]\n",
    "oversampling_ratio += 1\n",
    "\n",
    "# Separate the dataset into minority and majority class dataframes\n",
    "minority_df = x[y == minority_class]\n",
    "majority_df = x[y == majority_class]\n",
    "\n",
    "# Duplicate the minority class samples to oversample\n",
    "oversampled_minority_df = pd.concat([minority_df] * oversampling_ratio, ignore_index=True)\n",
    "\n",
    "# Combine the oversampled minority class with the majority class dataframes\n",
    "X_oversampled = pd.concat([majority_df, oversampled_minority_df], ignore_index=True)\n",
    "y_oversampled = [majority_class] * len(majority_df) + [minority_class] * len(oversampled_minority_df)\n",
    "\n",
    "# Create a new balanced dataset\n",
    "# X_balanced = X_oversampled.iloc[balanced_indices]\n",
    "# y_balanced = np.array(y_oversampled)[balanced_indices]\n",
    "\n",
    "# # Summarize the balanced class distribution\n",
    "# counter_balanced = Counter(y_balanced)\n",
    "# print(\"Balanced Class Distribution:\", counter_balanced)\n",
    "\n",
    "# Summarize the new class distribution after oversampling\n",
    "counter_oversampled = Counter(y_oversampled)\n",
    "print(\"Oversampled Class Distribution:\", counter_oversampled)\n",
    "\n",
    "#create the train-test set\n",
    "from sklearn.model_selection import train_test_split\n",
    "xtrain, xtest, ytrain, ytest = train_test_split(X_oversampled, y_oversampled, test_size = 0.2, random_state=42, shuffle=True)\n",
    "\n",
    "#Decision tree\n",
    "from sklearn.tree import DecisionTreeClassifier\n",
    "from sklearn.metrics import confusion_matrix\n",
    "dt = DecisionTreeClassifier()\n",
    "dt.fit(xtrain, ytrain)\n",
    "dt_predict = dt.predict(xtest)\n",
    "decision_tree_score = dt.score(xtest, ytest)\n",
    "\n",
    "print(\"Decision tree\")\n",
    "print(confusion_matrix(ytest, dt_predict))\n",
    "print(decision_tree_score)\n",
    "\n",
    "#Naive Bayes\n",
    "from sklearn.naive_bayes import GaussianNB\n",
    "nb = GaussianNB()\n",
    "nb.fit(xtrain, ytrain)\n",
    "nb_predict = nb.predict(xtest)\n",
    "naive_bayes_score = nb.score(xtest, ytest)\n",
    "\n",
    "print(\"Naive Bayes\")\n",
    "print(confusion_matrix(ytest, nb_predict))\n",
    "print(naive_bayes_score)\n"
   ]
  },
  {
   "cell_type": "markdown",
   "metadata": {},
   "source": [
    "The replication seems to have better result than the SMOTE approach which is depicted by the confusion matrix and accuracy. The undersampling is not applied due to small quantity of samples of minority class"
   ]
  },
  {
   "cell_type": "markdown",
   "metadata": {},
   "source": [
    "DO a comparative study of multiple models and choose the best"
   ]
  },
  {
   "cell_type": "code",
   "execution_count": 21,
   "metadata": {},
   "outputs": [
    {
     "name": "stdout",
     "output_type": "stream",
     "text": [
      "          type      amount  oldbalanceOrg  newbalanceOrig  oldbalanceDest  \\\n",
      "0          3.0     9839.64      170136.00       160296.36            0.00   \n",
      "1          3.0     1864.28       21249.00        19384.72            0.00   \n",
      "2          3.0    11668.14       41554.00        29885.86            0.00   \n",
      "3          3.0     7817.71       53860.00        46042.29            0.00   \n",
      "4          3.0     7107.77      183195.00       176087.23            0.00   \n",
      "...        ...         ...            ...             ...             ...   \n",
      "12711264   1.0   339682.13      339682.13            0.00            0.00   \n",
      "12711265   4.0  6311409.28     6311409.28            0.00            0.00   \n",
      "12711266   1.0  6311409.28     6311409.28            0.00        68488.84   \n",
      "12711267   4.0   850002.52      850002.52            0.00            0.00   \n",
      "12711268   1.0   850002.52      850002.52            0.00      6510099.11   \n",
      "\n",
      "          newbalanceDest  isFlaggedFraud    0  \n",
      "0                   0.00             0.0  0.0  \n",
      "1                   0.00             0.0  0.0  \n",
      "2                   0.00             0.0  0.0  \n",
      "3                   0.00             0.0  0.0  \n",
      "4                   0.00             0.0  0.0  \n",
      "...                  ...             ...  ...  \n",
      "12711264       339682.13             0.0  1.0  \n",
      "12711265            0.00             0.0  1.0  \n",
      "12711266      6379898.11             0.0  1.0  \n",
      "12711267            0.00             0.0  1.0  \n",
      "12711268      7360101.63             0.0  1.0  \n",
      "\n",
      "[12711269 rows x 8 columns]\n"
     ]
    }
   ],
   "source": [
    "#create the train-test set\n",
    "x = pd.DataFrame(X_oversampled)\n",
    "y = pd.DataFrame(y_oversampled)\n",
    "df = pd.concat([x, y], axis=1)\n",
    "print(df)"
   ]
  },
  {
   "cell_type": "code",
   "execution_count": 22,
   "metadata": {},
   "outputs": [
    {
     "data": {
      "text/plain": [
       "1.0    6356862\n",
       "0.0    6354407\n",
       "Name: 0, dtype: int64"
      ]
     },
     "execution_count": 22,
     "metadata": {},
     "output_type": "execute_result"
    }
   ],
   "source": [
    "df.iloc[:, -1].value_counts()"
   ]
  },
  {
   "cell_type": "code",
   "execution_count": 24,
   "metadata": {},
   "outputs": [
    {
     "name": "stdout",
     "output_type": "stream",
     "text": [
      "Decision tree\n",
      "[[1270368     180]\n",
      " [      0 1271706]]\n",
      "0.9999291966892372\n",
      "Naive Bayes\n",
      "[[1247321   23227]\n",
      " [ 877947  393759]]\n",
      "0.6455216512590796\n",
      "Random Forest\n",
      "[[1270409     139]\n",
      " [      0 1271706]]\n",
      "0.999945324110022\n",
      "K-Nearest Neighbours\n",
      "[[1269079    1469]\n",
      " [      0 1271706]]\n",
      "0.9994221663138302\n"
     ]
    }
   ],
   "source": [
    "#Decision tree\n",
    "from sklearn.tree import DecisionTreeClassifier\n",
    "from sklearn.metrics import confusion_matrix\n",
    "dt = DecisionTreeClassifier()\n",
    "dt.fit(xtrain, ytrain)\n",
    "dt_predict = dt.predict(xtest)\n",
    "decision_tree_score = dt.score(xtest, ytest)\n",
    "\n",
    "print(\"Decision tree\")\n",
    "print(confusion_matrix(ytest, dt_predict))\n",
    "print(decision_tree_score)\n",
    "\n",
    "#Naive Bayes\n",
    "from sklearn.naive_bayes import GaussianNB\n",
    "nb = GaussianNB()\n",
    "nb.fit(xtrain, ytrain)\n",
    "nb_predict = nb.predict(xtest)\n",
    "naive_bayes_score = nb.score(xtest, ytest)\n",
    "\n",
    "print(\"Naive Bayes\")\n",
    "print(confusion_matrix(ytest, nb_predict))\n",
    "print(naive_bayes_score)\n",
    "\n",
    "#Random Forest\n",
    "from sklearn.ensemble import RandomForestClassifier\n",
    "rf = RandomForestClassifier()\n",
    "rf.fit(xtrain, ytrain)\n",
    "rf_predict = rf.predict(xtest)\n",
    "random_forest_score = rf.score(xtest, ytest)\n",
    "\n",
    "print(\"Random Forest\")\n",
    "print(confusion_matrix(ytest, rf_predict))\n",
    "print(random_forest_score)\n",
    "\n",
    "#K-Nearest Neighbours\n",
    "from sklearn.neighbors import KNeighborsClassifier\n",
    "knn = KNeighborsClassifier()\n",
    "knn.fit(xtrain, ytrain)\n",
    "knn_predict = knn.predict(xtest)\n",
    "k_nearest_neighbours_score = knn.score(xtest, ytest)\n",
    "\n",
    "print(\"K-Nearest Neighbours\")\n",
    "print(confusion_matrix(ytest, knn_predict))\n",
    "print(k_nearest_neighbours_score)"
   ]
  },
  {
   "cell_type": "markdown",
   "metadata": {},
   "source": [
    "the decision tree, knn and random forest seems to have the highest accuracy of all the models, and the dataset has no chance to be erroneous due to oversampled using replication, which would have been a issue if SMOTE approach would have been used."
   ]
  },
  {
   "cell_type": "code",
   "execution_count": 25,
   "metadata": {},
   "outputs": [],
   "source": [
    "#Store the best models and the labelencoder\n",
    "import pickle\n",
    "\n",
    "dt_path = \"DTmodel.pkl\"\n",
    "rf_path = \"RFmodel.pkl\"\n",
    "knn_path = \"KNNmodel.pkl\"\n",
    "le_path = \"labelencoder.pkl\"\n",
    "\n",
    "pickle_path = open(dt_path, 'wb')\n",
    "pickle.dump(dt, pickle_path)\n",
    "pickle_path = open(rf_path, 'wb')\n",
    "pickle.dump(rf, pickle_path)\n",
    "pickle_path = open(knn_path, 'wb')\n",
    "pickle.dump(knn, pickle_path)\n",
    "pickle_path = open(le_path, 'wb')\n",
    "pickle.dump(le, pickle_path)"
   ]
  },
  {
   "cell_type": "markdown",
   "metadata": {},
   "source": [
    "The model should be set in the system in such a way that, during a transaction all required features are needed to be calculated using the information in hand, prior to the transaction made possible. the data is then fed to the models to get a decision and based on the majority of decisions, the transaction is resumed or cancelled. Both the models have no chance of mistaking positive value as negetive, so the only issue is the mistaking fraud transaction as normal."
   ]
  },
  {
   "cell_type": "markdown",
   "metadata": {},
   "source": [
    "The model can be tested using cross validation which is already implemented in the scripts."
   ]
  }
 ],
 "metadata": {
  "kernelspec": {
   "display_name": "Python 3",
   "language": "python",
   "name": "python3"
  },
  "language_info": {
   "codemirror_mode": {
    "name": "ipython",
    "version": 3
   },
   "file_extension": ".py",
   "mimetype": "text/x-python",
   "name": "python",
   "nbconvert_exporter": "python",
   "pygments_lexer": "ipython3",
   "version": "3.9.5"
  },
  "orig_nbformat": 4
 },
 "nbformat": 4,
 "nbformat_minor": 2
}
